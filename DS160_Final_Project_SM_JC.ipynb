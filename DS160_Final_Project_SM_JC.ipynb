{
 "cells": [
  {
   "cell_type": "markdown",
   "id": "39c52d33",
   "metadata": {},
   "source": [
    "## Importing the libraries"
   ]
  },
  {
   "cell_type": "code",
   "execution_count": 2,
   "id": "410713ca",
   "metadata": {},
   "outputs": [],
   "source": [
    "import pandas as pd\n",
    "import numpy as np\n",
    "import matplotlib.pyplot as plt\n",
    "import seaborn as sns\n",
    "import warnings\n",
    "warnings.filterwarnings('ignore')"
   ]
  },
  {
   "cell_type": "code",
   "execution_count": 3,
   "id": "9880e7aa",
   "metadata": {},
   "outputs": [
    {
     "data": {
      "text/html": [
       "<div>\n",
       "<style scoped>\n",
       "    .dataframe tbody tr th:only-of-type {\n",
       "        vertical-align: middle;\n",
       "    }\n",
       "\n",
       "    .dataframe tbody tr th {\n",
       "        vertical-align: top;\n",
       "    }\n",
       "\n",
       "    .dataframe thead th {\n",
       "        text-align: right;\n",
       "    }\n",
       "</style>\n",
       "<table border=\"1\" class=\"dataframe\">\n",
       "  <thead>\n",
       "    <tr style=\"text-align: right;\">\n",
       "      <th></th>\n",
       "      <th>Age</th>\n",
       "      <th>Gender</th>\n",
       "      <th>Height</th>\n",
       "      <th>Weight</th>\n",
       "      <th>CALC</th>\n",
       "      <th>FAVC</th>\n",
       "      <th>FCVC</th>\n",
       "      <th>NCP</th>\n",
       "      <th>SCC</th>\n",
       "      <th>SMOKE</th>\n",
       "      <th>CH2O</th>\n",
       "      <th>family_history_with_overweight</th>\n",
       "      <th>FAF</th>\n",
       "      <th>TUE</th>\n",
       "      <th>CAEC</th>\n",
       "      <th>MTRANS</th>\n",
       "      <th>NObeyesdad</th>\n",
       "    </tr>\n",
       "  </thead>\n",
       "  <tbody>\n",
       "    <tr>\n",
       "      <th>0</th>\n",
       "      <td>21.0</td>\n",
       "      <td>Female</td>\n",
       "      <td>1.62</td>\n",
       "      <td>64.0</td>\n",
       "      <td>no</td>\n",
       "      <td>no</td>\n",
       "      <td>2.0</td>\n",
       "      <td>3.0</td>\n",
       "      <td>no</td>\n",
       "      <td>no</td>\n",
       "      <td>2.0</td>\n",
       "      <td>yes</td>\n",
       "      <td>0.0</td>\n",
       "      <td>1.0</td>\n",
       "      <td>Sometimes</td>\n",
       "      <td>Public_Transportation</td>\n",
       "      <td>Normal_Weight</td>\n",
       "    </tr>\n",
       "    <tr>\n",
       "      <th>1</th>\n",
       "      <td>21.0</td>\n",
       "      <td>Female</td>\n",
       "      <td>1.52</td>\n",
       "      <td>56.0</td>\n",
       "      <td>Sometimes</td>\n",
       "      <td>no</td>\n",
       "      <td>3.0</td>\n",
       "      <td>3.0</td>\n",
       "      <td>yes</td>\n",
       "      <td>yes</td>\n",
       "      <td>3.0</td>\n",
       "      <td>yes</td>\n",
       "      <td>3.0</td>\n",
       "      <td>0.0</td>\n",
       "      <td>Sometimes</td>\n",
       "      <td>Public_Transportation</td>\n",
       "      <td>Normal_Weight</td>\n",
       "    </tr>\n",
       "    <tr>\n",
       "      <th>2</th>\n",
       "      <td>23.0</td>\n",
       "      <td>Male</td>\n",
       "      <td>1.80</td>\n",
       "      <td>77.0</td>\n",
       "      <td>Frequently</td>\n",
       "      <td>no</td>\n",
       "      <td>2.0</td>\n",
       "      <td>3.0</td>\n",
       "      <td>no</td>\n",
       "      <td>no</td>\n",
       "      <td>2.0</td>\n",
       "      <td>yes</td>\n",
       "      <td>2.0</td>\n",
       "      <td>1.0</td>\n",
       "      <td>Sometimes</td>\n",
       "      <td>Public_Transportation</td>\n",
       "      <td>Normal_Weight</td>\n",
       "    </tr>\n",
       "    <tr>\n",
       "      <th>3</th>\n",
       "      <td>27.0</td>\n",
       "      <td>Male</td>\n",
       "      <td>1.80</td>\n",
       "      <td>87.0</td>\n",
       "      <td>Frequently</td>\n",
       "      <td>no</td>\n",
       "      <td>3.0</td>\n",
       "      <td>3.0</td>\n",
       "      <td>no</td>\n",
       "      <td>no</td>\n",
       "      <td>2.0</td>\n",
       "      <td>no</td>\n",
       "      <td>2.0</td>\n",
       "      <td>0.0</td>\n",
       "      <td>Sometimes</td>\n",
       "      <td>Walking</td>\n",
       "      <td>Overweight_Level_I</td>\n",
       "    </tr>\n",
       "    <tr>\n",
       "      <th>4</th>\n",
       "      <td>22.0</td>\n",
       "      <td>Male</td>\n",
       "      <td>1.78</td>\n",
       "      <td>89.8</td>\n",
       "      <td>Sometimes</td>\n",
       "      <td>no</td>\n",
       "      <td>2.0</td>\n",
       "      <td>1.0</td>\n",
       "      <td>no</td>\n",
       "      <td>no</td>\n",
       "      <td>2.0</td>\n",
       "      <td>no</td>\n",
       "      <td>0.0</td>\n",
       "      <td>0.0</td>\n",
       "      <td>Sometimes</td>\n",
       "      <td>Public_Transportation</td>\n",
       "      <td>Overweight_Level_II</td>\n",
       "    </tr>\n",
       "  </tbody>\n",
       "</table>\n",
       "</div>"
      ],
      "text/plain": [
       "    Age  Gender  Height  Weight        CALC FAVC  FCVC  NCP  SCC SMOKE  CH2O  \\\n",
       "0  21.0  Female    1.62    64.0          no   no   2.0  3.0   no    no   2.0   \n",
       "1  21.0  Female    1.52    56.0   Sometimes   no   3.0  3.0  yes   yes   3.0   \n",
       "2  23.0    Male    1.80    77.0  Frequently   no   2.0  3.0   no    no   2.0   \n",
       "3  27.0    Male    1.80    87.0  Frequently   no   3.0  3.0   no    no   2.0   \n",
       "4  22.0    Male    1.78    89.8   Sometimes   no   2.0  1.0   no    no   2.0   \n",
       "\n",
       "  family_history_with_overweight  FAF  TUE       CAEC                 MTRANS  \\\n",
       "0                            yes  0.0  1.0  Sometimes  Public_Transportation   \n",
       "1                            yes  3.0  0.0  Sometimes  Public_Transportation   \n",
       "2                            yes  2.0  1.0  Sometimes  Public_Transportation   \n",
       "3                             no  2.0  0.0  Sometimes                Walking   \n",
       "4                             no  0.0  0.0  Sometimes  Public_Transportation   \n",
       "\n",
       "            NObeyesdad  \n",
       "0        Normal_Weight  \n",
       "1        Normal_Weight  \n",
       "2        Normal_Weight  \n",
       "3   Overweight_Level_I  \n",
       "4  Overweight_Level_II  "
      ]
     },
     "execution_count": 3,
     "metadata": {},
     "output_type": "execute_result"
    }
   ],
   "source": [
    "#Load the data set\n",
    "data=pd.read_csv('ObesityDataSet_raw_and_data_sinthetic.csv')\n",
    "#visualize the top five rows in the data using the head function\n",
    "data.head()"
   ]
  },
  {
   "cell_type": "code",
   "execution_count": 4,
   "id": "5bcc04f5",
   "metadata": {},
   "outputs": [
    {
     "name": "stdout",
     "output_type": "stream",
     "text": [
      "<class 'pandas.core.frame.DataFrame'>\n",
      "RangeIndex: 2111 entries, 0 to 2110\n",
      "Data columns (total 17 columns):\n",
      " #   Column                          Non-Null Count  Dtype  \n",
      "---  ------                          --------------  -----  \n",
      " 0   Age                             2111 non-null   float64\n",
      " 1   Gender                          2111 non-null   object \n",
      " 2   Height                          2111 non-null   float64\n",
      " 3   Weight                          2111 non-null   float64\n",
      " 4   CALC                            2111 non-null   object \n",
      " 5   FAVC                            2111 non-null   object \n",
      " 6   FCVC                            2111 non-null   float64\n",
      " 7   NCP                             2111 non-null   float64\n",
      " 8   SCC                             2111 non-null   object \n",
      " 9   SMOKE                           2111 non-null   object \n",
      " 10  CH2O                            2111 non-null   float64\n",
      " 11  family_history_with_overweight  2111 non-null   object \n",
      " 12  FAF                             2111 non-null   float64\n",
      " 13  TUE                             2111 non-null   float64\n",
      " 14  CAEC                            2111 non-null   object \n",
      " 15  MTRANS                          2111 non-null   object \n",
      " 16  NObeyesdad                      2111 non-null   object \n",
      "dtypes: float64(8), object(9)\n",
      "memory usage: 280.5+ KB\n"
     ]
    }
   ],
   "source": [
    "data.info()"
   ]
  },
  {
   "cell_type": "markdown",
   "id": "650da0d8",
   "metadata": {},
   "source": [
    "## Data Exploration"
   ]
  },
  {
   "cell_type": "markdown",
   "id": "976d6a58",
   "metadata": {},
   "source": [
    "### Summary Statistics"
   ]
  },
  {
   "cell_type": "code",
   "execution_count": 5,
   "id": "5204d2da",
   "metadata": {},
   "outputs": [
    {
     "data": {
      "text/html": [
       "<div>\n",
       "<style scoped>\n",
       "    .dataframe tbody tr th:only-of-type {\n",
       "        vertical-align: middle;\n",
       "    }\n",
       "\n",
       "    .dataframe tbody tr th {\n",
       "        vertical-align: top;\n",
       "    }\n",
       "\n",
       "    .dataframe thead th {\n",
       "        text-align: right;\n",
       "    }\n",
       "</style>\n",
       "<table border=\"1\" class=\"dataframe\">\n",
       "  <thead>\n",
       "    <tr style=\"text-align: right;\">\n",
       "      <th></th>\n",
       "      <th>Age</th>\n",
       "      <th>Height</th>\n",
       "      <th>Weight</th>\n",
       "      <th>FCVC</th>\n",
       "      <th>NCP</th>\n",
       "      <th>CH2O</th>\n",
       "      <th>FAF</th>\n",
       "      <th>TUE</th>\n",
       "    </tr>\n",
       "  </thead>\n",
       "  <tbody>\n",
       "    <tr>\n",
       "      <th>count</th>\n",
       "      <td>2111.000000</td>\n",
       "      <td>2111.000000</td>\n",
       "      <td>2111.000000</td>\n",
       "      <td>2111.000000</td>\n",
       "      <td>2111.000000</td>\n",
       "      <td>2111.000000</td>\n",
       "      <td>2111.000000</td>\n",
       "      <td>2111.000000</td>\n",
       "    </tr>\n",
       "    <tr>\n",
       "      <th>mean</th>\n",
       "      <td>24.312600</td>\n",
       "      <td>1.701677</td>\n",
       "      <td>86.586058</td>\n",
       "      <td>2.419043</td>\n",
       "      <td>2.685628</td>\n",
       "      <td>2.008011</td>\n",
       "      <td>1.010298</td>\n",
       "      <td>0.657866</td>\n",
       "    </tr>\n",
       "    <tr>\n",
       "      <th>std</th>\n",
       "      <td>6.345968</td>\n",
       "      <td>0.093305</td>\n",
       "      <td>26.191172</td>\n",
       "      <td>0.533927</td>\n",
       "      <td>0.778039</td>\n",
       "      <td>0.612953</td>\n",
       "      <td>0.850592</td>\n",
       "      <td>0.608927</td>\n",
       "    </tr>\n",
       "    <tr>\n",
       "      <th>min</th>\n",
       "      <td>14.000000</td>\n",
       "      <td>1.450000</td>\n",
       "      <td>39.000000</td>\n",
       "      <td>1.000000</td>\n",
       "      <td>1.000000</td>\n",
       "      <td>1.000000</td>\n",
       "      <td>0.000000</td>\n",
       "      <td>0.000000</td>\n",
       "    </tr>\n",
       "    <tr>\n",
       "      <th>25%</th>\n",
       "      <td>19.947192</td>\n",
       "      <td>1.630000</td>\n",
       "      <td>65.473343</td>\n",
       "      <td>2.000000</td>\n",
       "      <td>2.658738</td>\n",
       "      <td>1.584812</td>\n",
       "      <td>0.124505</td>\n",
       "      <td>0.000000</td>\n",
       "    </tr>\n",
       "    <tr>\n",
       "      <th>50%</th>\n",
       "      <td>22.777890</td>\n",
       "      <td>1.700499</td>\n",
       "      <td>83.000000</td>\n",
       "      <td>2.385502</td>\n",
       "      <td>3.000000</td>\n",
       "      <td>2.000000</td>\n",
       "      <td>1.000000</td>\n",
       "      <td>0.625350</td>\n",
       "    </tr>\n",
       "    <tr>\n",
       "      <th>75%</th>\n",
       "      <td>26.000000</td>\n",
       "      <td>1.768464</td>\n",
       "      <td>107.430682</td>\n",
       "      <td>3.000000</td>\n",
       "      <td>3.000000</td>\n",
       "      <td>2.477420</td>\n",
       "      <td>1.666678</td>\n",
       "      <td>1.000000</td>\n",
       "    </tr>\n",
       "    <tr>\n",
       "      <th>max</th>\n",
       "      <td>61.000000</td>\n",
       "      <td>1.980000</td>\n",
       "      <td>173.000000</td>\n",
       "      <td>3.000000</td>\n",
       "      <td>4.000000</td>\n",
       "      <td>3.000000</td>\n",
       "      <td>3.000000</td>\n",
       "      <td>2.000000</td>\n",
       "    </tr>\n",
       "  </tbody>\n",
       "</table>\n",
       "</div>"
      ],
      "text/plain": [
       "               Age       Height       Weight         FCVC          NCP  \\\n",
       "count  2111.000000  2111.000000  2111.000000  2111.000000  2111.000000   \n",
       "mean     24.312600     1.701677    86.586058     2.419043     2.685628   \n",
       "std       6.345968     0.093305    26.191172     0.533927     0.778039   \n",
       "min      14.000000     1.450000    39.000000     1.000000     1.000000   \n",
       "25%      19.947192     1.630000    65.473343     2.000000     2.658738   \n",
       "50%      22.777890     1.700499    83.000000     2.385502     3.000000   \n",
       "75%      26.000000     1.768464   107.430682     3.000000     3.000000   \n",
       "max      61.000000     1.980000   173.000000     3.000000     4.000000   \n",
       "\n",
       "              CH2O          FAF          TUE  \n",
       "count  2111.000000  2111.000000  2111.000000  \n",
       "mean      2.008011     1.010298     0.657866  \n",
       "std       0.612953     0.850592     0.608927  \n",
       "min       1.000000     0.000000     0.000000  \n",
       "25%       1.584812     0.124505     0.000000  \n",
       "50%       2.000000     1.000000     0.625350  \n",
       "75%       2.477420     1.666678     1.000000  \n",
       "max       3.000000     3.000000     2.000000  "
      ]
     },
     "execution_count": 5,
     "metadata": {},
     "output_type": "execute_result"
    }
   ],
   "source": [
    "data[['Age', 'Height', 'Weight', 'FCVC', 'NCP', 'CH2O', 'FAF', 'TUE']].describe()"
   ]
  },
  {
   "cell_type": "markdown",
   "id": "29156ca6",
   "metadata": {},
   "source": [
    "### Pie Chart\n",
    "* Pie chart shows that we have a good collection of all types of data."
   ]
  },
  {
   "cell_type": "code",
   "execution_count": 6,
   "id": "dca8d7cb",
   "metadata": {},
   "outputs": [
    {
     "data": {
      "text/plain": [
       "<Axes: ylabel='NObeyesdad'>"
      ]
     },
     "execution_count": 6,
     "metadata": {},
     "output_type": "execute_result"
    },
    {
     "data": {
      "image/png": "[encoded data removed]",
      "text/plain": [
       "<Figure size 640x480 with 1 Axes>"
      ]
     },
     "metadata": {},
     "output_type": "display_data"
    }
   ],
   "source": [
    "data['NObeyesdad'].value_counts().plot(kind='pie')"
   ]
  },
  {
   "cell_type": "markdown",
   "id": "35c59028",
   "metadata": {},
   "source": [
    "### Heat Map"
   ]
  },
  {
   "cell_type": "code",
   "execution_count": 7,
   "id": "051219e2",
   "metadata": {},
   "outputs": [
    {
     "data": {
      "text/plain": [
       "<Axes: >"
      ]
     },
     "execution_count": 7,
     "metadata": {},
     "output_type": "execute_result"
    },
    {
     "data": {
      "image/png": "[encoded data removed]",
      "text/plain": [
       "<Figure size 640x480 with 2 Axes>"
      ]
     },
     "metadata": {},
     "output_type": "display_data"
    }
   ],
   "source": [
    "corr=data[['Age', 'Height', 'Weight', 'FCVC', 'NCP', 'CH2O', 'FAF', 'TUE']].corr()\n",
    "sns.heatmap(corr, annot=True)"
   ]
  },
  {
   "cell_type": "markdown",
   "id": "61ec4dbf",
   "metadata": {},
   "source": [
    "### Scatter Plot"
   ]
  },
  {
   "cell_type": "code",
   "execution_count": 8,
   "id": "7353c34a",
   "metadata": {},
   "outputs": [
    {
     "data": {
      "image/png": "[encoded data removed]",
      "text/plain": [
       "<Figure size 640x480 with 1 Axes>"
      ]
     },
     "metadata": {},
     "output_type": "display_data"
    }
   ],
   "source": [
    "plt.scatter(data['FCVC'], data['Weight'])\n",
    "plt.xlabel(\"How Many Meals a Day do you eat Vegetables\")\n",
    "plt.ylabel(\"Weight\")\n",
    "plt.show()"
   ]
  },
  {
   "cell_type": "markdown",
   "id": "24f269aa",
   "metadata": {},
   "source": [
    "### Split the dataset into independent (X s) and Dependent variables (y)"
   ]
  },
  {
   "cell_type": "code",
   "execution_count": 9,
   "id": "1b070f9a",
   "metadata": {},
   "outputs": [],
   "source": [
    "x=data.drop(\"NObeyesdad\", axis=1)\n",
    "y=data[['NObeyesdad']]"
   ]
  },
  {
   "cell_type": "code",
   "execution_count": 10,
   "id": "d1562815",
   "metadata": {},
   "outputs": [
    {
     "data": {
      "text/html": [
       "<div>\n",
       "<style scoped>\n",
       "    .dataframe tbody tr th:only-of-type {\n",
       "        vertical-align: middle;\n",
       "    }\n",
       "\n",
       "    .dataframe tbody tr th {\n",
       "        vertical-align: top;\n",
       "    }\n",
       "\n",
       "    .dataframe thead th {\n",
       "        text-align: right;\n",
       "    }\n",
       "</style>\n",
       "<table border=\"1\" class=\"dataframe\">\n",
       "  <thead>\n",
       "    <tr style=\"text-align: right;\">\n",
       "      <th></th>\n",
       "      <th>Age</th>\n",
       "      <th>Gender</th>\n",
       "      <th>Height</th>\n",
       "      <th>Weight</th>\n",
       "      <th>CALC</th>\n",
       "      <th>FAVC</th>\n",
       "      <th>FCVC</th>\n",
       "      <th>NCP</th>\n",
       "      <th>SCC</th>\n",
       "      <th>SMOKE</th>\n",
       "      <th>CH2O</th>\n",
       "      <th>family_history_with_overweight</th>\n",
       "      <th>FAF</th>\n",
       "      <th>TUE</th>\n",
       "      <th>CAEC</th>\n",
       "      <th>MTRANS</th>\n",
       "    </tr>\n",
       "  </thead>\n",
       "  <tbody>\n",
       "    <tr>\n",
       "      <th>872</th>\n",
       "      <td>23.367212</td>\n",
       "      <td>Male</td>\n",
       "      <td>1.853223</td>\n",
       "      <td>87.083266</td>\n",
       "      <td>Sometimes</td>\n",
       "      <td>yes</td>\n",
       "      <td>2.0</td>\n",
       "      <td>1.097312</td>\n",
       "      <td>no</td>\n",
       "      <td>no</td>\n",
       "      <td>1.328835</td>\n",
       "      <td>yes</td>\n",
       "      <td>1.264257</td>\n",
       "      <td>1.0</td>\n",
       "      <td>Sometimes</td>\n",
       "      <td>Automobile</td>\n",
       "    </tr>\n",
       "  </tbody>\n",
       "</table>\n",
       "</div>"
      ],
      "text/plain": [
       "           Age Gender    Height     Weight       CALC FAVC  FCVC       NCP  \\\n",
       "872  23.367212   Male  1.853223  87.083266  Sometimes  yes   2.0  1.097312   \n",
       "\n",
       "    SCC SMOKE      CH2O family_history_with_overweight       FAF  TUE  \\\n",
       "872  no    no  1.328835                            yes  1.264257  1.0   \n",
       "\n",
       "          CAEC      MTRANS  \n",
       "872  Sometimes  Automobile  "
      ]
     },
     "execution_count": 10,
     "metadata": {},
     "output_type": "execute_result"
    }
   ],
   "source": [
    "x.sample()"
   ]
  },
  {
   "cell_type": "code",
   "execution_count": 11,
   "id": "5bbd078a",
   "metadata": {},
   "outputs": [
    {
     "data": {
      "text/html": [
       "<div>\n",
       "<style scoped>\n",
       "    .dataframe tbody tr th:only-of-type {\n",
       "        vertical-align: middle;\n",
       "    }\n",
       "\n",
       "    .dataframe tbody tr th {\n",
       "        vertical-align: top;\n",
       "    }\n",
       "\n",
       "    .dataframe thead th {\n",
       "        text-align: right;\n",
       "    }\n",
       "</style>\n",
       "<table border=\"1\" class=\"dataframe\">\n",
       "  <thead>\n",
       "    <tr style=\"text-align: right;\">\n",
       "      <th></th>\n",
       "      <th>NObeyesdad</th>\n",
       "    </tr>\n",
       "  </thead>\n",
       "  <tbody>\n",
       "    <tr>\n",
       "      <th>965</th>\n",
       "      <td>Overweight_Level_I</td>\n",
       "    </tr>\n",
       "  </tbody>\n",
       "</table>\n",
       "</div>"
      ],
      "text/plain": [
       "             NObeyesdad\n",
       "965  Overweight_Level_I"
      ]
     },
     "execution_count": 11,
     "metadata": {},
     "output_type": "execute_result"
    }
   ],
   "source": [
    "y.sample()"
   ]
  },
  {
   "cell_type": "markdown",
   "id": "d698f6a4",
   "metadata": {},
   "source": [
    "## Data Prep for Multiple Linear Regression"
   ]
  },
  {
   "cell_type": "code",
   "execution_count": 12,
   "id": "d21ef720",
   "metadata": {},
   "outputs": [],
   "source": [
    "from sklearn.preprocessing import LabelEncoder"
   ]
  },
  {
   "cell_type": "code",
   "execution_count": 15,
   "id": "7b10349d",
   "metadata": {},
   "outputs": [
    {
     "name": "stdout",
     "output_type": "stream",
     "text": [
      "[1 1 1 ... 4 4 4]\n"
     ]
    }
   ],
   "source": [
    "le = LabelEncoder()\n",
    "Y = le.fit_transform(y)\n",
    "print(Y)\n",
    "#Label encoding of dependant variable"
   ]
  },
  {
   "cell_type": "code",
   "execution_count": 78,
   "id": "72284b77",
   "metadata": {},
   "outputs": [
    {
     "name": "stdout",
     "output_type": "stream",
     "text": [
      "3\n"
     ]
    }
   ],
   "source": [
    "print(Y[1530])"
   ]
  },
  {
   "cell_type": "code",
   "execution_count": 77,
   "id": "3cf8b288",
   "metadata": {},
   "outputs": [
    {
     "name": "stdout",
     "output_type": "stream",
     "text": [
      "Age                                      27.83173\n",
      "Gender                                       Male\n",
      "Height                                   1.704028\n",
      "Weight                                 101.634313\n",
      "CALC                                    Sometimes\n",
      "FAVC                                          yes\n",
      "FCVC                                     2.630401\n",
      "NCP                                           1.0\n",
      "SCC                                            no\n",
      "SMOKE                                          no\n",
      "CH2O                                          1.0\n",
      "family_history_with_overweight                yes\n",
      "FAF                                      0.245354\n",
      "TUE                                      0.315261\n",
      "CAEC                                    Sometimes\n",
      "MTRANS                                 Automobile\n",
      "NObeyesdad                        Obesity_Type_II\n",
      "Name: 1530, dtype: object\n"
     ]
    }
   ],
   "source": [
    "print(data.iloc[1530])"
   ]
  },
  {
   "cell_type": "code",
   "execution_count": 13,
   "id": "ad9030a7",
   "metadata": {},
   "outputs": [],
   "source": [
    "X=pd.get_dummies(x,drop_first=True)"
   ]
  },
  {
   "cell_type": "code",
   "execution_count": 14,
   "id": "06e694f5",
   "metadata": {},
   "outputs": [
    {
     "data": {
      "text/html": [
       "<div>\n",
       "<style scoped>\n",
       "    .dataframe tbody tr th:only-of-type {\n",
       "        vertical-align: middle;\n",
       "    }\n",
       "\n",
       "    .dataframe tbody tr th {\n",
       "        vertical-align: top;\n",
       "    }\n",
       "\n",
       "    .dataframe thead th {\n",
       "        text-align: right;\n",
       "    }\n",
       "</style>\n",
       "<table border=\"1\" class=\"dataframe\">\n",
       "  <thead>\n",
       "    <tr style=\"text-align: right;\">\n",
       "      <th></th>\n",
       "      <th>Age</th>\n",
       "      <th>Height</th>\n",
       "      <th>Weight</th>\n",
       "      <th>FCVC</th>\n",
       "      <th>NCP</th>\n",
       "      <th>CH2O</th>\n",
       "      <th>FAF</th>\n",
       "      <th>TUE</th>\n",
       "      <th>Gender_Male</th>\n",
       "      <th>CALC_Frequently</th>\n",
       "      <th>...</th>\n",
       "      <th>SCC_yes</th>\n",
       "      <th>SMOKE_yes</th>\n",
       "      <th>family_history_with_overweight_yes</th>\n",
       "      <th>CAEC_Frequently</th>\n",
       "      <th>CAEC_Sometimes</th>\n",
       "      <th>CAEC_no</th>\n",
       "      <th>MTRANS_Bike</th>\n",
       "      <th>MTRANS_Motorbike</th>\n",
       "      <th>MTRANS_Public_Transportation</th>\n",
       "      <th>MTRANS_Walking</th>\n",
       "    </tr>\n",
       "  </thead>\n",
       "  <tbody>\n",
       "    <tr>\n",
       "      <th>0</th>\n",
       "      <td>21.0</td>\n",
       "      <td>1.62</td>\n",
       "      <td>64.0</td>\n",
       "      <td>2.0</td>\n",
       "      <td>3.0</td>\n",
       "      <td>2.0</td>\n",
       "      <td>0.0</td>\n",
       "      <td>1.0</td>\n",
       "      <td>0</td>\n",
       "      <td>0</td>\n",
       "      <td>...</td>\n",
       "      <td>0</td>\n",
       "      <td>0</td>\n",
       "      <td>1</td>\n",
       "      <td>0</td>\n",
       "      <td>1</td>\n",
       "      <td>0</td>\n",
       "      <td>0</td>\n",
       "      <td>0</td>\n",
       "      <td>1</td>\n",
       "      <td>0</td>\n",
       "    </tr>\n",
       "    <tr>\n",
       "      <th>1</th>\n",
       "      <td>21.0</td>\n",
       "      <td>1.52</td>\n",
       "      <td>56.0</td>\n",
       "      <td>3.0</td>\n",
       "      <td>3.0</td>\n",
       "      <td>3.0</td>\n",
       "      <td>3.0</td>\n",
       "      <td>0.0</td>\n",
       "      <td>0</td>\n",
       "      <td>0</td>\n",
       "      <td>...</td>\n",
       "      <td>1</td>\n",
       "      <td>1</td>\n",
       "      <td>1</td>\n",
       "      <td>0</td>\n",
       "      <td>1</td>\n",
       "      <td>0</td>\n",
       "      <td>0</td>\n",
       "      <td>0</td>\n",
       "      <td>1</td>\n",
       "      <td>0</td>\n",
       "    </tr>\n",
       "    <tr>\n",
       "      <th>2</th>\n",
       "      <td>23.0</td>\n",
       "      <td>1.80</td>\n",
       "      <td>77.0</td>\n",
       "      <td>2.0</td>\n",
       "      <td>3.0</td>\n",
       "      <td>2.0</td>\n",
       "      <td>2.0</td>\n",
       "      <td>1.0</td>\n",
       "      <td>1</td>\n",
       "      <td>1</td>\n",
       "      <td>...</td>\n",
       "      <td>0</td>\n",
       "      <td>0</td>\n",
       "      <td>1</td>\n",
       "      <td>0</td>\n",
       "      <td>1</td>\n",
       "      <td>0</td>\n",
       "      <td>0</td>\n",
       "      <td>0</td>\n",
       "      <td>1</td>\n",
       "      <td>0</td>\n",
       "    </tr>\n",
       "    <tr>\n",
       "      <th>3</th>\n",
       "      <td>27.0</td>\n",
       "      <td>1.80</td>\n",
       "      <td>87.0</td>\n",
       "      <td>3.0</td>\n",
       "      <td>3.0</td>\n",
       "      <td>2.0</td>\n",
       "      <td>2.0</td>\n",
       "      <td>0.0</td>\n",
       "      <td>1</td>\n",
       "      <td>1</td>\n",
       "      <td>...</td>\n",
       "      <td>0</td>\n",
       "      <td>0</td>\n",
       "      <td>0</td>\n",
       "      <td>0</td>\n",
       "      <td>1</td>\n",
       "      <td>0</td>\n",
       "      <td>0</td>\n",
       "      <td>0</td>\n",
       "      <td>0</td>\n",
       "      <td>1</td>\n",
       "    </tr>\n",
       "    <tr>\n",
       "      <th>4</th>\n",
       "      <td>22.0</td>\n",
       "      <td>1.78</td>\n",
       "      <td>89.8</td>\n",
       "      <td>2.0</td>\n",
       "      <td>1.0</td>\n",
       "      <td>2.0</td>\n",
       "      <td>0.0</td>\n",
       "      <td>0.0</td>\n",
       "      <td>1</td>\n",
       "      <td>0</td>\n",
       "      <td>...</td>\n",
       "      <td>0</td>\n",
       "      <td>0</td>\n",
       "      <td>0</td>\n",
       "      <td>0</td>\n",
       "      <td>1</td>\n",
       "      <td>0</td>\n",
       "      <td>0</td>\n",
       "      <td>0</td>\n",
       "      <td>1</td>\n",
       "      <td>0</td>\n",
       "    </tr>\n",
       "  </tbody>\n",
       "</table>\n",
       "<p>5 rows × 23 columns</p>\n",
       "</div>"
      ],
      "text/plain": [
       "    Age  Height  Weight  FCVC  NCP  CH2O  FAF  TUE  Gender_Male  \\\n",
       "0  21.0    1.62    64.0   2.0  3.0   2.0  0.0  1.0            0   \n",
       "1  21.0    1.52    56.0   3.0  3.0   3.0  3.0  0.0            0   \n",
       "2  23.0    1.80    77.0   2.0  3.0   2.0  2.0  1.0            1   \n",
       "3  27.0    1.80    87.0   3.0  3.0   2.0  2.0  0.0            1   \n",
       "4  22.0    1.78    89.8   2.0  1.0   2.0  0.0  0.0            1   \n",
       "\n",
       "   CALC_Frequently  ...  SCC_yes  SMOKE_yes  \\\n",
       "0                0  ...        0          0   \n",
       "1                0  ...        1          1   \n",
       "2                1  ...        0          0   \n",
       "3                1  ...        0          0   \n",
       "4                0  ...        0          0   \n",
       "\n",
       "   family_history_with_overweight_yes  CAEC_Frequently  CAEC_Sometimes  \\\n",
       "0                                   1                0               1   \n",
       "1                                   1                0               1   \n",
       "2                                   1                0               1   \n",
       "3                                   0                0               1   \n",
       "4                                   0                0               1   \n",
       "\n",
       "   CAEC_no  MTRANS_Bike  MTRANS_Motorbike  MTRANS_Public_Transportation  \\\n",
       "0        0            0                 0                             1   \n",
       "1        0            0                 0                             1   \n",
       "2        0            0                 0                             1   \n",
       "3        0            0                 0                             0   \n",
       "4        0            0                 0                             1   \n",
       "\n",
       "   MTRANS_Walking  \n",
       "0               0  \n",
       "1               0  \n",
       "2               0  \n",
       "3               1  \n",
       "4               0  \n",
       "\n",
       "[5 rows x 23 columns]"
      ]
     },
     "execution_count": 14,
     "metadata": {},
     "output_type": "execute_result"
    }
   ],
   "source": [
    "X.head()"
   ]
  },
  {
   "cell_type": "markdown",
   "id": "a25f2530",
   "metadata": {},
   "source": [
    "## Logistic Regression"
   ]
  },
  {
   "cell_type": "markdown",
   "id": "aa7ce2de",
   "metadata": {},
   "source": [
    "### Splitting the dataset into the Training set and Test set"
   ]
  },
  {
   "cell_type": "code",
   "execution_count": 109,
   "id": "84d82ad2",
   "metadata": {},
   "outputs": [],
   "source": [
    "from sklearn.model_selection import train_test_split\n",
    "X_train, X_test, Y_train, Y_test= train_test_split(X, Y,\n",
    "                                                  test_size=.15,\n",
    "                                                  random_state=20)"
   ]
  },
  {
   "cell_type": "markdown",
   "id": "9f76febc",
   "metadata": {},
   "source": [
    "### Training the Logistical Regression model"
   ]
  },
  {
   "cell_type": "code",
   "execution_count": 110,
   "id": "98a5efbd",
   "metadata": {},
   "outputs": [
    {
     "data": {
      "text/html": [
       "<style>#sk-container-id-4 {color: black;}#sk-container-id-4 pre{padding: 0;}#sk-container-id-4 div.sk-toggleable {background-color: white;}#sk-container-id-4 label.sk-toggleable__label {cursor: pointer;display: block;width: 100%;margin-bottom: 0;padding: 0.3em;box-sizing: border-box;text-align: center;}#sk-container-id-4 label.sk-toggleable__label-arrow:before {content: \"▸\";float: left;margin-right: 0.25em;color: #696969;}#sk-container-id-4 label.sk-toggleable__label-arrow:hover:before {color: black;}#sk-container-id-4 div.sk-estimator:hover label.sk-toggleable__label-arrow:before {color: black;}#sk-container-id-4 div.sk-toggleable__content {max-height: 0;max-width: 0;overflow: hidden;text-align: left;background-color: #f0f8ff;}#sk-container-id-4 div.sk-toggleable__content pre {margin: 0.2em;color: black;border-radius: 0.25em;background-color: #f0f8ff;}#sk-container-id-4 input.sk-toggleable__control:checked~div.sk-toggleable__content {max-height: 200px;max-width: 100%;overflow: auto;}#sk-container-id-4 input.sk-toggleable__control:checked~label.sk-toggleable__label-arrow:before {content: \"▾\";}#sk-container-id-4 div.sk-estimator input.sk-toggleable__control:checked~label.sk-toggleable__label {background-color: #d4ebff;}#sk-container-id-4 div.sk-label input.sk-toggleable__control:checked~label.sk-toggleable__label {background-color: #d4ebff;}#sk-container-id-4 input.sk-hidden--visually {border: 0;clip: rect(1px 1px 1px 1px);clip: rect(1px, 1px, 1px, 1px);height: 1px;margin: -1px;overflow: hidden;padding: 0;position: absolute;width: 1px;}#sk-container-id-4 div.sk-estimator {font-family: monospace;background-color: #f0f8ff;border: 1px dotted black;border-radius: 0.25em;box-sizing: border-box;margin-bottom: 0.5em;}#sk-container-id-4 div.sk-estimator:hover {background-color: #d4ebff;}#sk-container-id-4 div.sk-parallel-item::after {content: \"\";width: 100%;border-bottom: 1px solid gray;flex-grow: 1;}#sk-container-id-4 div.sk-label:hover label.sk-toggleable__label {background-color: #d4ebff;}#sk-container-id-4 div.sk-serial::before {content: \"\";position: absolute;border-left: 1px solid gray;box-sizing: border-box;top: 0;bottom: 0;left: 50%;z-index: 0;}#sk-container-id-4 div.sk-serial {display: flex;flex-direction: column;align-items: center;background-color: white;padding-right: 0.2em;padding-left: 0.2em;position: relative;}#sk-container-id-4 div.sk-item {position: relative;z-index: 1;}#sk-container-id-4 div.sk-parallel {display: flex;align-items: stretch;justify-content: center;background-color: white;position: relative;}#sk-container-id-4 div.sk-item::before, #sk-container-id-4 div.sk-parallel-item::before {content: \"\";position: absolute;border-left: 1px solid gray;box-sizing: border-box;top: 0;bottom: 0;left: 50%;z-index: -1;}#sk-container-id-4 div.sk-parallel-item {display: flex;flex-direction: column;z-index: 1;position: relative;background-color: white;}#sk-container-id-4 div.sk-parallel-item:first-child::after {align-self: flex-end;width: 50%;}#sk-container-id-4 div.sk-parallel-item:last-child::after {align-self: flex-start;width: 50%;}#sk-container-id-4 div.sk-parallel-item:only-child::after {width: 0;}#sk-container-id-4 div.sk-dashed-wrapped {border: 1px dashed gray;margin: 0 0.4em 0.5em 0.4em;box-sizing: border-box;padding-bottom: 0.4em;background-color: white;}#sk-container-id-4 div.sk-label label {font-family: monospace;font-weight: bold;display: inline-block;line-height: 1.2em;}#sk-container-id-4 div.sk-label-container {text-align: center;}#sk-container-id-4 div.sk-container {/* jupyter's `normalize.less` sets `[hidden] { display: none; }` but bootstrap.min.css set `[hidden] { display: none !important; }` so we also need the `!important` here to be able to override the default hidden behavior on the sphinx rendered scikit-learn.org. See: https://github.com/scikit-learn/scikit-learn/issues/21755 */display: inline-block !important;position: relative;}#sk-container-id-4 div.sk-text-repr-fallback {display: none;}</style><div id=\"sk-container-id-4\" class=\"sk-top-container\"><div class=\"sk-text-repr-fallback\"><pre>LogisticRegression()</pre><b>In a Jupyter environment, please rerun this cell to show the HTML representation or trust the notebook. <br />On GitHub, the HTML representation is unable to render, please try loading this page with nbviewer.org.</b></div><div class=\"sk-container\" hidden><div class=\"sk-item\"><div class=\"sk-estimator sk-toggleable\"><input class=\"sk-toggleable__control sk-hidden--visually\" id=\"sk-estimator-id-4\" type=\"checkbox\" checked><label for=\"sk-estimator-id-4\" class=\"sk-toggleable__label sk-toggleable__label-arrow\">LogisticRegression</label><div class=\"sk-toggleable__content\"><pre>LogisticRegression()</pre></div></div></div></div></div>"
      ],
      "text/plain": [
       "LogisticRegression()"
      ]
     },
     "execution_count": 110,
     "metadata": {},
     "output_type": "execute_result"
    }
   ],
   "source": [
    "from sklearn.linear_model import LogisticRegression\n",
    "classifier=LogisticRegression()\n",
    "classifier.fit(X_train.values, Y_train)"
   ]
  },
  {
   "cell_type": "markdown",
   "id": "e65b46fb",
   "metadata": {},
   "source": [
    "### Model Performance check using Confusion matrix, Confusion matrix display and classification report"
   ]
  },
  {
   "cell_type": "code",
   "execution_count": 111,
   "id": "7bff6cab",
   "metadata": {},
   "outputs": [],
   "source": [
    "Y_pred=classifier.predict(X_test.values)"
   ]
  },
  {
   "cell_type": "code",
   "execution_count": 112,
   "id": "85c9f7e8",
   "metadata": {},
   "outputs": [
    {
     "data": {
      "text/plain": [
       "array([3, 0, 4, 4, 3])"
      ]
     },
     "execution_count": 112,
     "metadata": {},
     "output_type": "execute_result"
    }
   ],
   "source": [
    "Y_pred[:5]"
   ]
  },
  {
   "cell_type": "code",
   "execution_count": 27,
   "id": "da9c4955",
   "metadata": {},
   "outputs": [
    {
     "name": "stdout",
     "output_type": "stream",
     "text": [
      "[[32  5  0  0  0  0  0]\n",
      " [ 7 25  3  0  0 12  1]\n",
      " [ 0  1 27  4  2  1 10]\n",
      " [ 0  0  4 45  0  0  0]\n",
      " [ 0  0  1  0 45  0  0]\n",
      " [ 0  4  5  1  0 36  4]\n",
      " [ 0  6 11  1  0  6 18]]\n"
     ]
    }
   ],
   "source": [
    "from sklearn.metrics import confusion_matrix, ConfusionMatrixDisplay, classification_report\n",
    "cm=confusion_matrix(Y_test,Y_pred)\n",
    "print(cm)"
   ]
  },
  {
   "cell_type": "code",
   "execution_count": 28,
   "id": "3151def7",
   "metadata": {},
   "outputs": [
    {
     "name": "stdout",
     "output_type": "stream",
     "text": [
      "[0 1 2 3 4 5 6]\n"
     ]
    }
   ],
   "source": [
    "print(classifier.classes_)"
   ]
  },
  {
   "cell_type": "code",
   "execution_count": 29,
   "id": "4c522524",
   "metadata": {},
   "outputs": [
    {
     "data": {
      "image/png": "[encoded data removed]",
      "text/plain": [
       "<Figure size 640x480 with 2 Axes>"
      ]
     },
     "metadata": {},
     "output_type": "display_data"
    }
   ],
   "source": [
    "disp=ConfusionMatrixDisplay(confusion_matrix=cm,\n",
    "                           display_labels=classifier.classes_)\n",
    "disp.plot()\n",
    "plt.show()"
   ]
  },
  {
   "cell_type": "code",
   "execution_count": 113,
   "id": "1281d1a7",
   "metadata": {},
   "outputs": [
    {
     "name": "stdout",
     "output_type": "stream",
     "text": [
      "              precision    recall  f1-score   support\n",
      "\n",
      "           0       0.82      0.86      0.84        37\n",
      "           1       0.61      0.52      0.56        48\n",
      "           2       0.53      0.60      0.56        45\n",
      "           3       0.88      0.92      0.90        49\n",
      "           4       0.96      0.98      0.97        46\n",
      "           5       0.65      0.72      0.69        50\n",
      "           6       0.55      0.43      0.48        42\n",
      "\n",
      "    accuracy                           0.72       317\n",
      "   macro avg       0.71      0.72      0.71       317\n",
      "weighted avg       0.71      0.72      0.71       317\n",
      "\n"
     ]
    }
   ],
   "source": [
    "print(classification_report(Y_test,Y_pred))"
   ]
  },
  {
   "cell_type": "markdown",
   "id": "7bbd28b1",
   "metadata": {},
   "source": [
    "### Predicting Results for Model 1 test_size= .15 random_size=20"
   ]
  },
  {
   "cell_type": "markdown",
   "id": "88ff1dd6",
   "metadata": {},
   "source": [
    "### Encoding for NObeyesdad \n",
    "    0 = insufficient_Weight\n",
    "    1 = Normal Weight\n",
    "    2 = Obesity Type I\n",
    "    3 = Obesity Type II\n",
    "    4 = Obesity Type III\n",
    "    5 = Overweight Level I\n",
    "    6 = Overweight Level II"
   ]
  },
  {
   "cell_type": "code",
   "execution_count": 36,
   "id": "b7645926",
   "metadata": {},
   "outputs": [],
   "source": [
    "pd.set_option(\"display.max_columns\", None)"
   ]
  },
  {
   "cell_type": "code",
   "execution_count": 37,
   "id": "1919fad0",
   "metadata": {},
   "outputs": [
    {
     "data": {
      "text/html": [
       "<div>\n",
       "<style scoped>\n",
       "    .dataframe tbody tr th:only-of-type {\n",
       "        vertical-align: middle;\n",
       "    }\n",
       "\n",
       "    .dataframe tbody tr th {\n",
       "        vertical-align: top;\n",
       "    }\n",
       "\n",
       "    .dataframe thead th {\n",
       "        text-align: right;\n",
       "    }\n",
       "</style>\n",
       "<table border=\"1\" class=\"dataframe\">\n",
       "  <thead>\n",
       "    <tr style=\"text-align: right;\">\n",
       "      <th></th>\n",
       "      <th>Age</th>\n",
       "      <th>Height</th>\n",
       "      <th>Weight</th>\n",
       "      <th>FCVC</th>\n",
       "      <th>NCP</th>\n",
       "      <th>CH2O</th>\n",
       "      <th>FAF</th>\n",
       "      <th>TUE</th>\n",
       "      <th>Gender_Male</th>\n",
       "      <th>CALC_Frequently</th>\n",
       "      <th>CALC_Sometimes</th>\n",
       "      <th>CALC_no</th>\n",
       "      <th>FAVC_yes</th>\n",
       "      <th>SCC_yes</th>\n",
       "      <th>SMOKE_yes</th>\n",
       "      <th>family_history_with_overweight_yes</th>\n",
       "      <th>CAEC_Frequently</th>\n",
       "      <th>CAEC_Sometimes</th>\n",
       "      <th>CAEC_no</th>\n",
       "      <th>MTRANS_Bike</th>\n",
       "      <th>MTRANS_Motorbike</th>\n",
       "      <th>MTRANS_Public_Transportation</th>\n",
       "      <th>MTRANS_Walking</th>\n",
       "    </tr>\n",
       "  </thead>\n",
       "  <tbody>\n",
       "    <tr>\n",
       "      <th>438</th>\n",
       "      <td>19.000000</td>\n",
       "      <td>1.670000</td>\n",
       "      <td>64.000000</td>\n",
       "      <td>3.000000</td>\n",
       "      <td>3.000000</td>\n",
       "      <td>2.000000</td>\n",
       "      <td>2.000000</td>\n",
       "      <td>1.000000</td>\n",
       "      <td>0</td>\n",
       "      <td>0</td>\n",
       "      <td>1</td>\n",
       "      <td>0</td>\n",
       "      <td>1</td>\n",
       "      <td>0</td>\n",
       "      <td>0</td>\n",
       "      <td>0</td>\n",
       "      <td>0</td>\n",
       "      <td>1</td>\n",
       "      <td>0</td>\n",
       "      <td>0</td>\n",
       "      <td>0</td>\n",
       "      <td>0</td>\n",
       "      <td>0</td>\n",
       "    </tr>\n",
       "    <tr>\n",
       "      <th>930</th>\n",
       "      <td>21.009437</td>\n",
       "      <td>1.606810</td>\n",
       "      <td>67.773914</td>\n",
       "      <td>2.000000</td>\n",
       "      <td>3.156309</td>\n",
       "      <td>3.000000</td>\n",
       "      <td>1.179592</td>\n",
       "      <td>0.086868</td>\n",
       "      <td>0</td>\n",
       "      <td>0</td>\n",
       "      <td>1</td>\n",
       "      <td>0</td>\n",
       "      <td>1</td>\n",
       "      <td>0</td>\n",
       "      <td>0</td>\n",
       "      <td>1</td>\n",
       "      <td>0</td>\n",
       "      <td>0</td>\n",
       "      <td>1</td>\n",
       "      <td>0</td>\n",
       "      <td>0</td>\n",
       "      <td>1</td>\n",
       "      <td>0</td>\n",
       "    </tr>\n",
       "    <tr>\n",
       "      <th>33</th>\n",
       "      <td>39.000000</td>\n",
       "      <td>1.790000</td>\n",
       "      <td>90.000000</td>\n",
       "      <td>2.000000</td>\n",
       "      <td>1.000000</td>\n",
       "      <td>2.000000</td>\n",
       "      <td>0.000000</td>\n",
       "      <td>0.000000</td>\n",
       "      <td>1</td>\n",
       "      <td>0</td>\n",
       "      <td>1</td>\n",
       "      <td>0</td>\n",
       "      <td>0</td>\n",
       "      <td>0</td>\n",
       "      <td>0</td>\n",
       "      <td>0</td>\n",
       "      <td>0</td>\n",
       "      <td>1</td>\n",
       "      <td>0</td>\n",
       "      <td>0</td>\n",
       "      <td>0</td>\n",
       "      <td>1</td>\n",
       "      <td>0</td>\n",
       "    </tr>\n",
       "    <tr>\n",
       "      <th>1588</th>\n",
       "      <td>25.100513</td>\n",
       "      <td>1.830596</td>\n",
       "      <td>118.424156</td>\n",
       "      <td>1.455602</td>\n",
       "      <td>3.000000</td>\n",
       "      <td>2.363307</td>\n",
       "      <td>1.144683</td>\n",
       "      <td>0.101026</td>\n",
       "      <td>1</td>\n",
       "      <td>0</td>\n",
       "      <td>1</td>\n",
       "      <td>0</td>\n",
       "      <td>1</td>\n",
       "      <td>0</td>\n",
       "      <td>0</td>\n",
       "      <td>1</td>\n",
       "      <td>0</td>\n",
       "      <td>1</td>\n",
       "      <td>0</td>\n",
       "      <td>0</td>\n",
       "      <td>0</td>\n",
       "      <td>1</td>\n",
       "      <td>0</td>\n",
       "    </tr>\n",
       "    <tr>\n",
       "      <th>1911</th>\n",
       "      <td>18.314593</td>\n",
       "      <td>1.745602</td>\n",
       "      <td>133.554686</td>\n",
       "      <td>3.000000</td>\n",
       "      <td>3.000000</td>\n",
       "      <td>2.923792</td>\n",
       "      <td>1.536555</td>\n",
       "      <td>0.625350</td>\n",
       "      <td>0</td>\n",
       "      <td>0</td>\n",
       "      <td>1</td>\n",
       "      <td>0</td>\n",
       "      <td>1</td>\n",
       "      <td>0</td>\n",
       "      <td>0</td>\n",
       "      <td>1</td>\n",
       "      <td>0</td>\n",
       "      <td>1</td>\n",
       "      <td>0</td>\n",
       "      <td>0</td>\n",
       "      <td>0</td>\n",
       "      <td>1</td>\n",
       "      <td>0</td>\n",
       "    </tr>\n",
       "  </tbody>\n",
       "</table>\n",
       "</div>"
      ],
      "text/plain": [
       "            Age    Height      Weight      FCVC       NCP      CH2O       FAF  \\\n",
       "438   19.000000  1.670000   64.000000  3.000000  3.000000  2.000000  2.000000   \n",
       "930   21.009437  1.606810   67.773914  2.000000  3.156309  3.000000  1.179592   \n",
       "33    39.000000  1.790000   90.000000  2.000000  1.000000  2.000000  0.000000   \n",
       "1588  25.100513  1.830596  118.424156  1.455602  3.000000  2.363307  1.144683   \n",
       "1911  18.314593  1.745602  133.554686  3.000000  3.000000  2.923792  1.536555   \n",
       "\n",
       "           TUE  Gender_Male  CALC_Frequently  CALC_Sometimes  CALC_no  \\\n",
       "438   1.000000            0                0               1        0   \n",
       "930   0.086868            0                0               1        0   \n",
       "33    0.000000            1                0               1        0   \n",
       "1588  0.101026            1                0               1        0   \n",
       "1911  0.625350            0                0               1        0   \n",
       "\n",
       "      FAVC_yes  SCC_yes  SMOKE_yes  family_history_with_overweight_yes  \\\n",
       "438          1        0          0                                   0   \n",
       "930          1        0          0                                   1   \n",
       "33           0        0          0                                   0   \n",
       "1588         1        0          0                                   1   \n",
       "1911         1        0          0                                   1   \n",
       "\n",
       "      CAEC_Frequently  CAEC_Sometimes  CAEC_no  MTRANS_Bike  MTRANS_Motorbike  \\\n",
       "438                 0               1        0            0                 0   \n",
       "930                 0               0        1            0                 0   \n",
       "33                  0               1        0            0                 0   \n",
       "1588                0               1        0            0                 0   \n",
       "1911                0               1        0            0                 0   \n",
       "\n",
       "      MTRANS_Public_Transportation  MTRANS_Walking  \n",
       "438                              0               0  \n",
       "930                              1               0  \n",
       "33                               1               0  \n",
       "1588                             1               0  \n",
       "1911                             1               0  "
      ]
     },
     "execution_count": 37,
     "metadata": {},
     "output_type": "execute_result"
    }
   ],
   "source": [
    "X.sample(5)"
   ]
  },
  {
   "cell_type": "code",
   "execution_count": 38,
   "id": "1afb9692",
   "metadata": {},
   "outputs": [
    {
     "name": "stdout",
     "output_type": "stream",
     "text": [
      "[1]\n"
     ]
    }
   ],
   "source": [
    "print(classifier.predict([[19.000000,1.670000,64.000000,3.000000,3.000000,2.000000,2.000000,1.000000,0,0,1,0,1,0,0,0,0,1,0,0,0,0,0]]))"
   ]
  },
  {
   "cell_type": "code",
   "execution_count": 42,
   "id": "8e7e1483",
   "metadata": {},
   "outputs": [
    {
     "name": "stdout",
     "output_type": "stream",
     "text": [
      "Age                                        19.0\n",
      "Gender                                   Female\n",
      "Height                                     1.67\n",
      "Weight                                     64.0\n",
      "CALC                                  Sometimes\n",
      "FAVC                                        yes\n",
      "FCVC                                        3.0\n",
      "NCP                                         3.0\n",
      "SCC                                          no\n",
      "SMOKE                                        no\n",
      "CH2O                                        2.0\n",
      "family_history_with_overweight               no\n",
      "FAF                                         2.0\n",
      "TUE                                         1.0\n",
      "CAEC                                  Sometimes\n",
      "MTRANS                               Automobile\n",
      "NObeyesdad                        Normal_Weight\n",
      "Name: 438, dtype: object\n"
     ]
    }
   ],
   "source": [
    "print(data.iloc[438])"
   ]
  },
  {
   "cell_type": "code",
   "execution_count": 43,
   "id": "2b2da352",
   "metadata": {},
   "outputs": [
    {
     "name": "stdout",
     "output_type": "stream",
     "text": [
      "[5]\n"
     ]
    }
   ],
   "source": [
    "print(classifier.predict([[21.009437,1.606810,67.773914,2.000000,3.156309,3.000000,1.179592,0.086868,0,0,1,0,1,0,0,1,0,0,1,0,0,1,0]]))"
   ]
  },
  {
   "cell_type": "code",
   "execution_count": 44,
   "id": "3f1280cb",
   "metadata": {},
   "outputs": [
    {
     "name": "stdout",
     "output_type": "stream",
     "text": [
      "Age                                           21.009437\n",
      "Gender                                           Female\n",
      "Height                                          1.60681\n",
      "Weight                                        67.773914\n",
      "CALC                                          Sometimes\n",
      "FAVC                                                yes\n",
      "FCVC                                                2.0\n",
      "NCP                                            3.156309\n",
      "SCC                                                  no\n",
      "SMOKE                                                no\n",
      "CH2O                                                3.0\n",
      "family_history_with_overweight                      yes\n",
      "FAF                                            1.179592\n",
      "TUE                                            0.086868\n",
      "CAEC                                                 no\n",
      "MTRANS                            Public_Transportation\n",
      "NObeyesdad                           Overweight_Level_I\n",
      "Name: 930, dtype: object\n"
     ]
    }
   ],
   "source": [
    "print(data.iloc[930])"
   ]
  },
  {
   "cell_type": "code",
   "execution_count": 52,
   "id": "84dbe9f1",
   "metadata": {},
   "outputs": [
    {
     "name": "stdout",
     "output_type": "stream",
     "text": [
      "[6]\n"
     ]
    }
   ],
   "source": [
    "print(classifier.predict([[39.000000,1.790000,90.000000,2.000000,1.000000,2.000000,0.000000,0.000000,1,0,1,0,0,0,0,0,0,1,0,0,0,1,0]]))"
   ]
  },
  {
   "cell_type": "code",
   "execution_count": 53,
   "id": "ed1802a0",
   "metadata": {},
   "outputs": [
    {
     "name": "stdout",
     "output_type": "stream",
     "text": [
      "Age                                                39.0\n",
      "Gender                                             Male\n",
      "Height                                             1.79\n",
      "Weight                                             90.0\n",
      "CALC                                          Sometimes\n",
      "FAVC                                                 no\n",
      "FCVC                                                2.0\n",
      "NCP                                                 1.0\n",
      "SCC                                                  no\n",
      "SMOKE                                                no\n",
      "CH2O                                                2.0\n",
      "family_history_with_overweight                       no\n",
      "FAF                                                 0.0\n",
      "TUE                                                 0.0\n",
      "CAEC                                          Sometimes\n",
      "MTRANS                            Public_Transportation\n",
      "NObeyesdad                          Overweight_Level_II\n",
      "Name: 33, dtype: object\n"
     ]
    }
   ],
   "source": [
    "print(data.iloc[33])"
   ]
  },
  {
   "cell_type": "code",
   "execution_count": 97,
   "id": "5089d156",
   "metadata": {},
   "outputs": [
    {
     "name": "stdout",
     "output_type": "stream",
     "text": [
      "[4]\n"
     ]
    }
   ],
   "source": [
    "print(classifier.predict([[18.314593,1.745602,133.554686,3.000000,3.000000,2.923792,1.536555,0.625350,0,0,1,0,1,0,0,1,0,1,0,0,0,1,0]]))"
   ]
  },
  {
   "cell_type": "code",
   "execution_count": 96,
   "id": "9d06c7a2",
   "metadata": {},
   "outputs": [
    {
     "name": "stdout",
     "output_type": "stream",
     "text": [
      "Age                                           18.314593\n",
      "Gender                                           Female\n",
      "Height                                         1.745602\n",
      "Weight                                       133.554686\n",
      "CALC                                          Sometimes\n",
      "FAVC                                                yes\n",
      "FCVC                                                3.0\n",
      "NCP                                                 3.0\n",
      "SCC                                                  no\n",
      "SMOKE                                                no\n",
      "CH2O                                           2.923792\n",
      "family_history_with_overweight                      yes\n",
      "FAF                                            1.536555\n",
      "TUE                                             0.62535\n",
      "CAEC                                          Sometimes\n",
      "MTRANS                            Public_Transportation\n",
      "NObeyesdad                             Obesity_Type_III\n",
      "Name: 1911, dtype: object\n"
     ]
    }
   ],
   "source": [
    "print(data.iloc[1911])"
   ]
  },
  {
   "cell_type": "markdown",
   "id": "48982754",
   "metadata": {},
   "source": [
    "### Predicting Results for Model 2 test_size= .20 random_size=30"
   ]
  },
  {
   "cell_type": "markdown",
   "id": "953fd3e5",
   "metadata": {},
   "source": [
    "### Encoding for NObeyesdad \n",
    "    0 = insufficient_Weight\n",
    "    1 = Normal Weight\n",
    "    2 = Obesity Type I\n",
    "    3 = Obesity Type II\n",
    "    4 = Obesity Type III\n",
    "    5 = Overweight Level I\n",
    "    6 = Overweight Level II"
   ]
  },
  {
   "cell_type": "code",
   "execution_count": 117,
   "id": "6304987e",
   "metadata": {},
   "outputs": [],
   "source": [
    "from sklearn.model_selection import train_test_split\n",
    "X_train, X_test, Y_train, Y_test= train_test_split(X, Y,\n",
    "                                                  test_size=.20,\n",
    "                                                  random_state=30)"
   ]
  },
  {
   "cell_type": "code",
   "execution_count": 118,
   "id": "a689ca4f",
   "metadata": {},
   "outputs": [],
   "source": [
    "Y_pred=classifier.predict(X_test.values)"
   ]
  },
  {
   "cell_type": "code",
   "execution_count": 80,
   "id": "c5b4ee3f",
   "metadata": {},
   "outputs": [
    {
     "data": {
      "text/html": [
       "<div>\n",
       "<style scoped>\n",
       "    .dataframe tbody tr th:only-of-type {\n",
       "        vertical-align: middle;\n",
       "    }\n",
       "\n",
       "    .dataframe tbody tr th {\n",
       "        vertical-align: top;\n",
       "    }\n",
       "\n",
       "    .dataframe thead th {\n",
       "        text-align: right;\n",
       "    }\n",
       "</style>\n",
       "<table border=\"1\" class=\"dataframe\">\n",
       "  <thead>\n",
       "    <tr style=\"text-align: right;\">\n",
       "      <th></th>\n",
       "      <th>Age</th>\n",
       "      <th>Height</th>\n",
       "      <th>Weight</th>\n",
       "      <th>FCVC</th>\n",
       "      <th>NCP</th>\n",
       "      <th>CH2O</th>\n",
       "      <th>FAF</th>\n",
       "      <th>TUE</th>\n",
       "      <th>Gender_Male</th>\n",
       "      <th>CALC_Frequently</th>\n",
       "      <th>CALC_Sometimes</th>\n",
       "      <th>CALC_no</th>\n",
       "      <th>FAVC_yes</th>\n",
       "      <th>SCC_yes</th>\n",
       "      <th>SMOKE_yes</th>\n",
       "      <th>family_history_with_overweight_yes</th>\n",
       "      <th>CAEC_Frequently</th>\n",
       "      <th>CAEC_Sometimes</th>\n",
       "      <th>CAEC_no</th>\n",
       "      <th>MTRANS_Bike</th>\n",
       "      <th>MTRANS_Motorbike</th>\n",
       "      <th>MTRANS_Public_Transportation</th>\n",
       "      <th>MTRANS_Walking</th>\n",
       "    </tr>\n",
       "  </thead>\n",
       "  <tbody>\n",
       "    <tr>\n",
       "      <th>19</th>\n",
       "      <td>23.0</td>\n",
       "      <td>1.650000</td>\n",
       "      <td>70.000000</td>\n",
       "      <td>2.0</td>\n",
       "      <td>1.000000</td>\n",
       "      <td>2.000000</td>\n",
       "      <td>0.0</td>\n",
       "      <td>0.000000</td>\n",
       "      <td>0</td>\n",
       "      <td>0</td>\n",
       "      <td>1</td>\n",
       "      <td>0</td>\n",
       "      <td>0</td>\n",
       "      <td>0</td>\n",
       "      <td>0</td>\n",
       "      <td>1</td>\n",
       "      <td>0</td>\n",
       "      <td>1</td>\n",
       "      <td>0</td>\n",
       "      <td>0</td>\n",
       "      <td>0</td>\n",
       "      <td>1</td>\n",
       "      <td>0</td>\n",
       "    </tr>\n",
       "    <tr>\n",
       "      <th>1940</th>\n",
       "      <td>26.0</td>\n",
       "      <td>1.622468</td>\n",
       "      <td>110.400847</td>\n",
       "      <td>3.0</td>\n",
       "      <td>3.000000</td>\n",
       "      <td>2.695094</td>\n",
       "      <td>0.0</td>\n",
       "      <td>0.413474</td>\n",
       "      <td>0</td>\n",
       "      <td>0</td>\n",
       "      <td>1</td>\n",
       "      <td>0</td>\n",
       "      <td>1</td>\n",
       "      <td>0</td>\n",
       "      <td>0</td>\n",
       "      <td>1</td>\n",
       "      <td>0</td>\n",
       "      <td>1</td>\n",
       "      <td>0</td>\n",
       "      <td>0</td>\n",
       "      <td>0</td>\n",
       "      <td>1</td>\n",
       "      <td>0</td>\n",
       "    </tr>\n",
       "    <tr>\n",
       "      <th>877</th>\n",
       "      <td>18.0</td>\n",
       "      <td>1.647971</td>\n",
       "      <td>68.818893</td>\n",
       "      <td>2.0</td>\n",
       "      <td>1.411685</td>\n",
       "      <td>1.859089</td>\n",
       "      <td>0.0</td>\n",
       "      <td>1.306000</td>\n",
       "      <td>0</td>\n",
       "      <td>0</td>\n",
       "      <td>0</td>\n",
       "      <td>1</td>\n",
       "      <td>1</td>\n",
       "      <td>0</td>\n",
       "      <td>0</td>\n",
       "      <td>1</td>\n",
       "      <td>0</td>\n",
       "      <td>1</td>\n",
       "      <td>0</td>\n",
       "      <td>0</td>\n",
       "      <td>0</td>\n",
       "      <td>1</td>\n",
       "      <td>0</td>\n",
       "    </tr>\n",
       "  </tbody>\n",
       "</table>\n",
       "</div>"
      ],
      "text/plain": [
       "       Age    Height      Weight  FCVC       NCP      CH2O  FAF       TUE  \\\n",
       "19    23.0  1.650000   70.000000   2.0  1.000000  2.000000  0.0  0.000000   \n",
       "1940  26.0  1.622468  110.400847   3.0  3.000000  2.695094  0.0  0.413474   \n",
       "877   18.0  1.647971   68.818893   2.0  1.411685  1.859089  0.0  1.306000   \n",
       "\n",
       "      Gender_Male  CALC_Frequently  CALC_Sometimes  CALC_no  FAVC_yes  \\\n",
       "19              0                0               1        0         0   \n",
       "1940            0                0               1        0         1   \n",
       "877             0                0               0        1         1   \n",
       "\n",
       "      SCC_yes  SMOKE_yes  family_history_with_overweight_yes  CAEC_Frequently  \\\n",
       "19          0          0                                   1                0   \n",
       "1940        0          0                                   1                0   \n",
       "877         0          0                                   1                0   \n",
       "\n",
       "      CAEC_Sometimes  CAEC_no  MTRANS_Bike  MTRANS_Motorbike  \\\n",
       "19                 1        0            0                 0   \n",
       "1940               1        0            0                 0   \n",
       "877                1        0            0                 0   \n",
       "\n",
       "      MTRANS_Public_Transportation  MTRANS_Walking  \n",
       "19                               1               0  \n",
       "1940                             1               0  \n",
       "877                              1               0  "
      ]
     },
     "execution_count": 80,
     "metadata": {},
     "output_type": "execute_result"
    }
   ],
   "source": [
    "X.sample(3)"
   ]
  },
  {
   "cell_type": "code",
   "execution_count": 84,
   "id": "fe6dd717",
   "metadata": {},
   "outputs": [
    {
     "name": "stdout",
     "output_type": "stream",
     "text": [
      "[6]\n"
     ]
    }
   ],
   "source": [
    "print(classifier.predict([[23.0,1.650000,70.000000,2.0,1.000000,2.000000,0.0,0.000000,0,0,1,0,0,0,0,1,0,1,0,0,0,1,0]]))"
   ]
  },
  {
   "cell_type": "code",
   "execution_count": 81,
   "id": "b1792748",
   "metadata": {},
   "outputs": [
    {
     "name": "stdout",
     "output_type": "stream",
     "text": [
      "Age                                                23.0\n",
      "Gender                                           Female\n",
      "Height                                             1.65\n",
      "Weight                                             70.0\n",
      "CALC                                          Sometimes\n",
      "FAVC                                                 no\n",
      "FCVC                                                2.0\n",
      "NCP                                                 1.0\n",
      "SCC                                                  no\n",
      "SMOKE                                                no\n",
      "CH2O                                                2.0\n",
      "family_history_with_overweight                      yes\n",
      "FAF                                                 0.0\n",
      "TUE                                                 0.0\n",
      "CAEC                                          Sometimes\n",
      "MTRANS                            Public_Transportation\n",
      "NObeyesdad                           Overweight_Level_I\n",
      "Name: 19, dtype: object\n"
     ]
    }
   ],
   "source": [
    "print(data.iloc[19])"
   ]
  },
  {
   "cell_type": "code",
   "execution_count": 85,
   "id": "578e0f3d",
   "metadata": {},
   "outputs": [
    {
     "name": "stdout",
     "output_type": "stream",
     "text": [
      "[4]\n"
     ]
    }
   ],
   "source": [
    "print(classifier.predict([[26.0,1.622468,110.400847,3.0,3.000000,2.695094,0.0,0.413474,0,0,1,0,1,0,0,1,0,1,0,0,0,1,0]]))"
   ]
  },
  {
   "cell_type": "code",
   "execution_count": 82,
   "id": "04f90492",
   "metadata": {},
   "outputs": [
    {
     "name": "stdout",
     "output_type": "stream",
     "text": [
      "Age                                                26.0\n",
      "Gender                                           Female\n",
      "Height                                         1.622468\n",
      "Weight                                       110.400847\n",
      "CALC                                          Sometimes\n",
      "FAVC                                                yes\n",
      "FCVC                                                3.0\n",
      "NCP                                                 3.0\n",
      "SCC                                                  no\n",
      "SMOKE                                                no\n",
      "CH2O                                           2.695094\n",
      "family_history_with_overweight                      yes\n",
      "FAF                                                 0.0\n",
      "TUE                                            0.413474\n",
      "CAEC                                          Sometimes\n",
      "MTRANS                            Public_Transportation\n",
      "NObeyesdad                             Obesity_Type_III\n",
      "Name: 1940, dtype: object\n"
     ]
    }
   ],
   "source": [
    "print(data.iloc[1940])"
   ]
  },
  {
   "cell_type": "code",
   "execution_count": 86,
   "id": "86bac2ec",
   "metadata": {},
   "outputs": [
    {
     "name": "stdout",
     "output_type": "stream",
     "text": [
      "[2]\n"
     ]
    }
   ],
   "source": [
    "print(classifier.predict([[18.0,1.647971,68.818893,2.0,1.411685,1.859089,0.0,1.306000,0,0,0,1,1,0,0,1,0,1,0,0,0,1,0]]))"
   ]
  },
  {
   "cell_type": "code",
   "execution_count": 83,
   "id": "b82031a6",
   "metadata": {},
   "outputs": [
    {
     "name": "stdout",
     "output_type": "stream",
     "text": [
      "Age                                                18.0\n",
      "Gender                                           Female\n",
      "Height                                         1.647971\n",
      "Weight                                        68.818893\n",
      "CALC                                                 no\n",
      "FAVC                                                yes\n",
      "FCVC                                                2.0\n",
      "NCP                                            1.411685\n",
      "SCC                                                  no\n",
      "SMOKE                                                no\n",
      "CH2O                                           1.859089\n",
      "family_history_with_overweight                      yes\n",
      "FAF                                                 0.0\n",
      "TUE                                               1.306\n",
      "CAEC                                          Sometimes\n",
      "MTRANS                            Public_Transportation\n",
      "NObeyesdad                           Overweight_Level_I\n",
      "Name: 877, dtype: object\n"
     ]
    }
   ],
   "source": [
    "print(data.iloc[877])"
   ]
  },
  {
   "cell_type": "code",
   "execution_count": 119,
   "id": "77c66495",
   "metadata": {},
   "outputs": [
    {
     "name": "stdout",
     "output_type": "stream",
     "text": [
      "              precision    recall  f1-score   support\n",
      "\n",
      "           0       0.79      0.88      0.83        51\n",
      "           1       0.58      0.58      0.58        50\n",
      "           2       0.69      0.64      0.66        83\n",
      "           3       0.82      0.93      0.87        58\n",
      "           4       0.89      1.00      0.94        64\n",
      "           5       0.52      0.57      0.55        58\n",
      "           6       0.50      0.32      0.39        59\n",
      "\n",
      "    accuracy                           0.70       423\n",
      "   macro avg       0.68      0.70      0.69       423\n",
      "weighted avg       0.69      0.70      0.69       423\n",
      "\n"
     ]
    }
   ],
   "source": [
    "print(classification_report(Y_test,Y_pred))"
   ]
  },
  {
   "cell_type": "markdown",
   "id": "462f731b",
   "metadata": {},
   "source": [
    "### Predicting Results for Model 3 test_size= .10 random_size=25"
   ]
  },
  {
   "cell_type": "markdown",
   "id": "a88c0270",
   "metadata": {},
   "source": [
    "### Encoding for NObeyesdad \n",
    "    0 = insufficient_Weight\n",
    "    1 = Normal Weight\n",
    "    2 = Obesity Type I\n",
    "    3 = Obesity Type II\n",
    "    4 = Obesity Type III\n",
    "    5 = Overweight Level I\n",
    "    6 = Overweight Level II"
   ]
  },
  {
   "cell_type": "code",
   "execution_count": 120,
   "id": "1da01486",
   "metadata": {},
   "outputs": [],
   "source": [
    "from sklearn.model_selection import train_test_split\n",
    "X_train, X_test, Y_train, Y_test= train_test_split(X, Y,\n",
    "                                                  test_size=.10,\n",
    "                                                  random_state=25)"
   ]
  },
  {
   "cell_type": "code",
   "execution_count": 121,
   "id": "c5f2fafe",
   "metadata": {},
   "outputs": [],
   "source": [
    "Y_pred=classifier.predict(X_test.values)"
   ]
  },
  {
   "cell_type": "code",
   "execution_count": 88,
   "id": "a83f68f9",
   "metadata": {},
   "outputs": [
    {
     "data": {
      "text/html": [
       "<div>\n",
       "<style scoped>\n",
       "    .dataframe tbody tr th:only-of-type {\n",
       "        vertical-align: middle;\n",
       "    }\n",
       "\n",
       "    .dataframe tbody tr th {\n",
       "        vertical-align: top;\n",
       "    }\n",
       "\n",
       "    .dataframe thead th {\n",
       "        text-align: right;\n",
       "    }\n",
       "</style>\n",
       "<table border=\"1\" class=\"dataframe\">\n",
       "  <thead>\n",
       "    <tr style=\"text-align: right;\">\n",
       "      <th></th>\n",
       "      <th>Age</th>\n",
       "      <th>Height</th>\n",
       "      <th>Weight</th>\n",
       "      <th>FCVC</th>\n",
       "      <th>NCP</th>\n",
       "      <th>CH2O</th>\n",
       "      <th>FAF</th>\n",
       "      <th>TUE</th>\n",
       "      <th>Gender_Male</th>\n",
       "      <th>CALC_Frequently</th>\n",
       "      <th>CALC_Sometimes</th>\n",
       "      <th>CALC_no</th>\n",
       "      <th>FAVC_yes</th>\n",
       "      <th>SCC_yes</th>\n",
       "      <th>SMOKE_yes</th>\n",
       "      <th>family_history_with_overweight_yes</th>\n",
       "      <th>CAEC_Frequently</th>\n",
       "      <th>CAEC_Sometimes</th>\n",
       "      <th>CAEC_no</th>\n",
       "      <th>MTRANS_Bike</th>\n",
       "      <th>MTRANS_Motorbike</th>\n",
       "      <th>MTRANS_Public_Transportation</th>\n",
       "      <th>MTRANS_Walking</th>\n",
       "    </tr>\n",
       "  </thead>\n",
       "  <tbody>\n",
       "    <tr>\n",
       "      <th>494</th>\n",
       "      <td>18.000000</td>\n",
       "      <td>1.670000</td>\n",
       "      <td>66.000000</td>\n",
       "      <td>3.00000</td>\n",
       "      <td>3.00000</td>\n",
       "      <td>2.000000</td>\n",
       "      <td>0.000000</td>\n",
       "      <td>0.000000</td>\n",
       "      <td>0</td>\n",
       "      <td>0</td>\n",
       "      <td>1</td>\n",
       "      <td>0</td>\n",
       "      <td>1</td>\n",
       "      <td>0</td>\n",
       "      <td>0</td>\n",
       "      <td>0</td>\n",
       "      <td>0</td>\n",
       "      <td>1</td>\n",
       "      <td>0</td>\n",
       "      <td>0</td>\n",
       "      <td>0</td>\n",
       "      <td>1</td>\n",
       "      <td>0</td>\n",
       "    </tr>\n",
       "    <tr>\n",
       "      <th>1991</th>\n",
       "      <td>21.656907</td>\n",
       "      <td>1.729099</td>\n",
       "      <td>134.842656</td>\n",
       "      <td>3.00000</td>\n",
       "      <td>3.00000</td>\n",
       "      <td>1.395400</td>\n",
       "      <td>1.931173</td>\n",
       "      <td>0.878258</td>\n",
       "      <td>0</td>\n",
       "      <td>0</td>\n",
       "      <td>1</td>\n",
       "      <td>0</td>\n",
       "      <td>1</td>\n",
       "      <td>0</td>\n",
       "      <td>0</td>\n",
       "      <td>1</td>\n",
       "      <td>0</td>\n",
       "      <td>1</td>\n",
       "      <td>0</td>\n",
       "      <td>0</td>\n",
       "      <td>0</td>\n",
       "      <td>1</td>\n",
       "      <td>0</td>\n",
       "    </tr>\n",
       "    <tr>\n",
       "      <th>751</th>\n",
       "      <td>41.823567</td>\n",
       "      <td>1.721854</td>\n",
       "      <td>82.919584</td>\n",
       "      <td>2.81646</td>\n",
       "      <td>3.36313</td>\n",
       "      <td>2.722063</td>\n",
       "      <td>3.000000</td>\n",
       "      <td>0.265790</td>\n",
       "      <td>0</td>\n",
       "      <td>0</td>\n",
       "      <td>1</td>\n",
       "      <td>0</td>\n",
       "      <td>1</td>\n",
       "      <td>0</td>\n",
       "      <td>0</td>\n",
       "      <td>0</td>\n",
       "      <td>0</td>\n",
       "      <td>1</td>\n",
       "      <td>0</td>\n",
       "      <td>0</td>\n",
       "      <td>0</td>\n",
       "      <td>0</td>\n",
       "      <td>0</td>\n",
       "    </tr>\n",
       "  </tbody>\n",
       "</table>\n",
       "</div>"
      ],
      "text/plain": [
       "            Age    Height      Weight     FCVC      NCP      CH2O       FAF  \\\n",
       "494   18.000000  1.670000   66.000000  3.00000  3.00000  2.000000  0.000000   \n",
       "1991  21.656907  1.729099  134.842656  3.00000  3.00000  1.395400  1.931173   \n",
       "751   41.823567  1.721854   82.919584  2.81646  3.36313  2.722063  3.000000   \n",
       "\n",
       "           TUE  Gender_Male  CALC_Frequently  CALC_Sometimes  CALC_no  \\\n",
       "494   0.000000            0                0               1        0   \n",
       "1991  0.878258            0                0               1        0   \n",
       "751   0.265790            0                0               1        0   \n",
       "\n",
       "      FAVC_yes  SCC_yes  SMOKE_yes  family_history_with_overweight_yes  \\\n",
       "494          1        0          0                                   0   \n",
       "1991         1        0          0                                   1   \n",
       "751          1        0          0                                   0   \n",
       "\n",
       "      CAEC_Frequently  CAEC_Sometimes  CAEC_no  MTRANS_Bike  MTRANS_Motorbike  \\\n",
       "494                 0               1        0            0                 0   \n",
       "1991                0               1        0            0                 0   \n",
       "751                 0               1        0            0                 0   \n",
       "\n",
       "      MTRANS_Public_Transportation  MTRANS_Walking  \n",
       "494                              1               0  \n",
       "1991                             1               0  \n",
       "751                              0               0  "
      ]
     },
     "execution_count": 88,
     "metadata": {},
     "output_type": "execute_result"
    }
   ],
   "source": [
    "X.sample(3)"
   ]
  },
  {
   "cell_type": "code",
   "execution_count": 92,
   "id": "3e50aa65",
   "metadata": {},
   "outputs": [
    {
     "name": "stdout",
     "output_type": "stream",
     "text": [
      "[4]\n"
     ]
    }
   ],
   "source": [
    "print(classifier.predict([[18.000000,1.670000,66.000000,3.00000,3.00000,2.000000,0.000000,0.000000,0,0,1,0,1,0,0,0,0,1,0,0,0,1,0]]))"
   ]
  },
  {
   "cell_type": "code",
   "execution_count": 89,
   "id": "9a01bcd5",
   "metadata": {},
   "outputs": [
    {
     "name": "stdout",
     "output_type": "stream",
     "text": [
      "Age                                                18.0\n",
      "Gender                                           Female\n",
      "Height                                             1.67\n",
      "Weight                                             66.0\n",
      "CALC                                          Sometimes\n",
      "FAVC                                                yes\n",
      "FCVC                                                3.0\n",
      "NCP                                                 3.0\n",
      "SCC                                                  no\n",
      "SMOKE                                                no\n",
      "CH2O                                                2.0\n",
      "family_history_with_overweight                       no\n",
      "FAF                                                 0.0\n",
      "TUE                                                 0.0\n",
      "CAEC                                          Sometimes\n",
      "MTRANS                            Public_Transportation\n",
      "NObeyesdad                                Normal_Weight\n",
      "Name: 494, dtype: object\n"
     ]
    }
   ],
   "source": [
    "print(data.iloc[494])"
   ]
  },
  {
   "cell_type": "code",
   "execution_count": 93,
   "id": "7c552a7b",
   "metadata": {},
   "outputs": [
    {
     "name": "stdout",
     "output_type": "stream",
     "text": [
      "[4]\n"
     ]
    }
   ],
   "source": [
    "print(classifier.predict([[21.656907,1.729099,134.842656,3.00000,3.00000,1.395400,1.931173,0.878258,0,0,1,0,1,0,0,1,0,1,0,0,0,1,0]]))"
   ]
  },
  {
   "cell_type": "code",
   "execution_count": 90,
   "id": "f78e1d72",
   "metadata": {},
   "outputs": [
    {
     "name": "stdout",
     "output_type": "stream",
     "text": [
      "Age                                           21.656907\n",
      "Gender                                           Female\n",
      "Height                                         1.729099\n",
      "Weight                                       134.842656\n",
      "CALC                                          Sometimes\n",
      "FAVC                                                yes\n",
      "FCVC                                                3.0\n",
      "NCP                                                 3.0\n",
      "SCC                                                  no\n",
      "SMOKE                                                no\n",
      "CH2O                                             1.3954\n",
      "family_history_with_overweight                      yes\n",
      "FAF                                            1.931173\n",
      "TUE                                            0.878258\n",
      "CAEC                                          Sometimes\n",
      "MTRANS                            Public_Transportation\n",
      "NObeyesdad                             Obesity_Type_III\n",
      "Name: 1991, dtype: object\n"
     ]
    }
   ],
   "source": [
    "print(data.iloc[1991])"
   ]
  },
  {
   "cell_type": "code",
   "execution_count": 94,
   "id": "336a78d6",
   "metadata": {},
   "outputs": [
    {
     "name": "stdout",
     "output_type": "stream",
     "text": [
      "[1]\n"
     ]
    }
   ],
   "source": [
    "print(classifier.predict([[41.823567,1.721854,82.919584,2.81646,3.36313,2.722063,3.000000,0.265790,0,0,1,0,1,0,0,0,0,1,0,0,0,0,0]]))"
   ]
  },
  {
   "cell_type": "code",
   "execution_count": 91,
   "id": "9db41109",
   "metadata": {},
   "outputs": [
    {
     "name": "stdout",
     "output_type": "stream",
     "text": [
      "Age                                        41.823567\n",
      "Gender                                        Female\n",
      "Height                                      1.721854\n",
      "Weight                                     82.919584\n",
      "CALC                                       Sometimes\n",
      "FAVC                                             yes\n",
      "FCVC                                         2.81646\n",
      "NCP                                          3.36313\n",
      "SCC                                               no\n",
      "SMOKE                                             no\n",
      "CH2O                                        2.722063\n",
      "family_history_with_overweight                    no\n",
      "FAF                                              3.0\n",
      "TUE                                          0.26579\n",
      "CAEC                                       Sometimes\n",
      "MTRANS                                    Automobile\n",
      "NObeyesdad                        Overweight_Level_I\n",
      "Name: 751, dtype: object\n"
     ]
    }
   ],
   "source": [
    "print(data.iloc[751])"
   ]
  },
  {
   "cell_type": "code",
   "execution_count": 122,
   "id": "4b4ed66b",
   "metadata": {},
   "outputs": [
    {
     "name": "stdout",
     "output_type": "stream",
     "text": [
      "              precision    recall  f1-score   support\n",
      "\n",
      "           0       0.85      0.88      0.86        25\n",
      "           1       0.50      0.42      0.45        24\n",
      "           2       0.66      0.61      0.63        38\n",
      "           3       0.88      0.88      0.88        34\n",
      "           4       0.97      1.00      0.99        36\n",
      "           5       0.48      0.62      0.55        24\n",
      "           6       0.55      0.52      0.53        31\n",
      "\n",
      "    accuracy                           0.72       212\n",
      "   macro avg       0.70      0.70      0.70       212\n",
      "weighted avg       0.72      0.72      0.71       212\n",
      "\n"
     ]
    }
   ],
   "source": [
    "print(classification_report(Y_test,Y_pred))"
   ]
  },
  {
   "cell_type": "markdown",
   "id": "c030ccbd",
   "metadata": {},
   "source": [
    "## Discussing Results"
   ]
  },
  {
   "cell_type": "markdown",
   "id": "77feaf3b",
   "metadata": {},
   "source": [
    " * Model 1, with a test_size=.10 and random_size=20, had perfect results and returned the right Obesity level for each test.\n",
    " * Model 2, with a test_size=.20 and random_size=30, only got one test result right out of the three we tested. This 33% accuracy rate is not very accurate and shouldn't be used.\n",
    " * Model 3, with a test_size=.10 and random_size=25, only got one test result right out of the three we tested. This 33% accuracy rate is not very accurate and shouldn't be used."
   ]
  }
 ],
 "metadata": {
  "kernelspec": {
   "display_name": "Python 3 (ipykernel)",
   "language": "python",
   "name": "python3"
  },
  "language_info": {
   "codemirror_mode": {
    "name": "ipython",
    "version": 3
   },
   "file_extension": ".py",
   "mimetype": "text/x-python",
   "name": "python",
   "nbconvert_exporter": "python",
   "pygments_lexer": "ipython3",
   "version": "3.11.4"
  }
 },
 "nbformat": 4,
 "nbformat_minor": 5
}
